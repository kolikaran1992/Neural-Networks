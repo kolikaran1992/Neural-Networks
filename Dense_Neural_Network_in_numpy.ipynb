{
  "nbformat": 4,
  "nbformat_minor": 0,
  "metadata": {
    "colab": {
      "name": "Dense Neural Network in numpy.ipynb",
      "provenance": [],
      "collapsed_sections": [],
      "authorship_tag": "ABX9TyNyzYeB2fJ9P+QSuZ+Q7gPL",
      "include_colab_link": true
    },
    "kernelspec": {
      "name": "python3",
      "display_name": "Python 3"
    }
  },
  "cells": [
    {
      "cell_type": "markdown",
      "metadata": {
        "id": "view-in-github",
        "colab_type": "text"
      },
      "source": [
        "<a href=\"https://colab.research.google.com/github/kolikaran1992/Neural-Networks-in-Numpy/blob/main/Dense_Neural_Network_in_numpy.ipynb\" target=\"_parent\"><img src=\"https://colab.research.google.com/assets/colab-badge.svg\" alt=\"Open In Colab\"/></a>"
      ]
    },
    {
      "cell_type": "markdown",
      "metadata": {
        "id": "8zzAGJHNajMb"
      },
      "source": [
        "**NOTE**\n",
        "\n",
        "Let, $F(x): R^m \\rightarrow R$, then,\n",
        "\n",
        "$\\nabla_xF = [\\frac{\\partial F}{\\partial x_1} \\dots \\frac{\\partial F}{\\partial x_m}]$\n",
        "\n",
        "$x$ was a column vector, but $\\nabla_xF$ is a row vector, therefore, when applying gradients in gradient descent, a convention that gradient should be shape according to variables should be followed, therefore the actual usable gradient in gradient descent would be $\\nabla_xF^T$"
      ]
    },
    {
      "cell_type": "markdown",
      "metadata": {
        "id": "-1jzeM8OBRUg"
      },
      "source": [
        "The example presented here will be a multiclass classification problem, this can be generalized for regression as well, all that will be needed to do is to change some gradients"
      ]
    },
    {
      "cell_type": "markdown",
      "metadata": {
        "id": "PN9Ndbb-rSnC"
      },
      "source": [
        "**ASSUMPTIONS**\n",
        "\n",
        "1. $m$: batch size\n",
        "2. $n$: number of features in the input\n",
        "3. $c$: number of classes\n",
        "4. $X$: training batch (dimension = $n \\times m$)\n",
        "5. $x$: one instance (column vector) in the training batch (dimension = $n \\times 1$)\n",
        "6. $Y$: true batch classes (matrix of one hot vectors of dimension $c \\times m$)\n",
        "7. $y$: one instance (column vector) of true classes of dimension $c \\times 1$\n",
        "8. $\\hat{y}$: one instance of predicted classes of dimension $c \\times 1$ (vector of real number which sums to unity)\n",
        "\n",
        "The loss function to be used is cross entropy loss\n",
        "$$J(y, \\hat{y}) = -\\sum_{i=1}^{c}y_i \\ log(\\hat{y}_i)$$"
      ]
    },
    {
      "cell_type": "markdown",
      "metadata": {
        "id": "EDv3IQQtII7o"
      },
      "source": [
        "# MATH"
      ]
    },
    {
      "cell_type": "markdown",
      "metadata": {
        "id": "AAb6YE4EBiW9"
      },
      "source": [
        "Let's suppose the network has $Q$ hidden layers, this means the network has $Q+2$ layers in total when input and output layers are included"
      ]
    },
    {
      "cell_type": "markdown",
      "metadata": {
        "id": "a5jHRwvJB2Wh"
      },
      "source": [
        "Let $W^i, b^i; i \\in [1, Q]$ be the paramters of hidden layers and $W^{out}, b^{out}$ be the paramters of the output layer\n"
      ]
    },
    {
      "cell_type": "markdown",
      "metadata": {
        "id": "XTzmgCU3Carm"
      },
      "source": [
        "$z^{i} = W^{i}a^{i-1}+b^{i}$\n",
        "\n",
        "$a^{i} = \\text{Act}(z^i)$\n",
        "\n",
        "Where, $a^{0}=x$\n",
        "\n",
        "Let's look at the output layer\n",
        "\n",
        "$z^{out} = W^{out}a^{Q}+b^{out}$\n",
        "\n",
        "$\\hat{y}=\\text{softmax}(z^{out})$\n",
        "\n",
        "$J = -\\sum_{i=1}^{c}y_i log \\ \\hat{y}_i$"
      ]
    },
    {
      "cell_type": "markdown",
      "metadata": {
        "id": "6rtbMv7_uAOj"
      },
      "source": [
        "The model has $Q+1$ sets of parameters, we need to calculate gradients wrt these parameters"
      ]
    },
    {
      "cell_type": "markdown",
      "metadata": {
        "id": "aaVABl9Ae0af"
      },
      "source": [
        "## GRADIENT WRT $b^{out}$"
      ]
    },
    {
      "cell_type": "markdown",
      "metadata": {
        "id": "JfclSEzV7nGI"
      },
      "source": [
        "$\\nabla_{b^{out}}J=\\nabla_{\\hat{y}}J\\nabla_{z^{out}}\\hat{y}\\nabla_{b^{out}}z^{out}$"
      ]
    },
    {
      "cell_type": "markdown",
      "metadata": {
        "id": "MFKCyOZAU1rV"
      },
      "source": [
        "Since we need to differentiate $z^{out}$ wrt $b^{out}$ therefore, in this scenario, $z^{out}:R^c \\rightarrow R^c$, therefore the gradient $\\nabla_{b^{out}}z^{out} \\in R^{c \\times c}$"
      ]
    },
    {
      "cell_type": "markdown",
      "metadata": {
        "id": "iVe5vbiUVY6K"
      },
      "source": [
        "$\\nabla_{b^{out}}z^{out} = \\begin{bmatrix} \\frac{\\partial z_1^{out}}{\\partial b_1^{out}} \\dots \\frac{\\partial z_1^{out}}{\\partial b_c^{out}} \\\\ \\vdots \\\\  \\frac{\\partial z_c^{out}}{\\partial b_1^{out}} \\dots \\frac{\\partial z_c^{out}}{\\partial b_c^{out}} \\end{bmatrix} = I_{c \\times c}$"
      ]
    },
    {
      "cell_type": "markdown",
      "metadata": {
        "id": "MgxwwJxjV-oX"
      },
      "source": [
        "For $\\nabla_z^{out}\\hat{y}$, since differentiating wrt $z^{out}$, $\\hat{y}: R^c \\rightarrow R^c$\n",
        "\n",
        "$\\nabla_{z^{out}}\\hat{y} = \\begin{bmatrix} \\frac{\\partial \\hat{y}_1}{\\partial z_1^{out}} \\dots \\frac{\\partial \\hat{y}_1}{\\partial z_c^{out}} \\\\ \\vdots \\\\ \\frac{\\partial \\hat{y}_c}{\\partial z_1^{out}} \\dots \\frac{\\partial \\hat{y}_c}{\\partial z_c^{out}} \\end{bmatrix}$"
      ]
    },
    {
      "cell_type": "markdown",
      "metadata": {
        "id": "2TACF4DFWib0"
      },
      "source": [
        "$\\frac{\\partial \\hat{y}_i}{\\partial z_j^{out}} = \\begin{cases} \\hat{y}_i(1-\\hat{y}_i) \\quad; i==j  \\\\ -\\hat{y}_i \\hat{y}_j \\quad \\quad \\ \\ ; i \\neq j\\end{cases}$"
      ]
    },
    {
      "cell_type": "markdown",
      "metadata": {
        "id": "ZmfxZhrwXPJR"
      },
      "source": [
        "$\\nabla_{z^{out}}\\hat{y} = \\begin{bmatrix} \\hat{y}_1(1-\\hat{y}_1) \\dots -\\hat{y}_1\\hat{y}_c \\\\ \\vdots \\\\ -\\hat{y}_c\\hat{y}_1 \\dots \\hat{y}_c(1-\\hat{y}_c) \\end{bmatrix}$ "
      ]
    },
    {
      "cell_type": "markdown",
      "metadata": {
        "id": "dAl7LnXuZbK7"
      },
      "source": [
        "$\\nabla_\\hat{y}J = -[\\frac{y_1}{\\hat{y}_1} \\dots \\frac{y_c}{\\hat{y}_c}] = -[\\frac{y}{\\hat{y}}]^T$"
      ]
    },
    {
      "cell_type": "markdown",
      "metadata": {
        "id": "TAyzWzR4e4hy"
      },
      "source": [
        "## GRADIENT WRT $W^{out}$"
      ]
    },
    {
      "cell_type": "markdown",
      "metadata": {
        "id": "QoKori-7e7bq"
      },
      "source": [
        "$\\nabla_{W^{out}}J=\\nabla_{\\hat{y}}J\\nabla_{z^{out}}\\hat{y}\\nabla_{W^{out}}z^{out}$"
      ]
    },
    {
      "cell_type": "markdown",
      "metadata": {
        "id": "kavW141StkrM"
      },
      "source": [
        "$z_{i}^{out}= \\sum_{k=1}^{n}W_{ik}^{out}a_{k}^Q$, therefore, $\\frac{\\partial z_{i}^{out}}{\\partial W_{jk}^{out}} = \\begin{cases} a_{k}^Q \\quad; i=j \\\\ 0 \\quad ; i \\neq j\\end{cases}$\n"
      ]
    },
    {
      "cell_type": "markdown",
      "metadata": {
        "id": "NxOwNB77t5an"
      },
      "source": [
        "$\\nabla_{W^{out}}z^{out}=\\begin{bmatrix} \\begin{bmatrix} - a^Q - \\\\ \\vdots \\\\ -0-\\end{bmatrix} \\dots \\begin{bmatrix} - 0 - \\\\ \\vdots \\\\ -a^Q-\\end{bmatrix}\\end{bmatrix}$"
      ]
    },
    {
      "cell_type": "markdown",
      "metadata": {
        "id": "e6HIO10TuaUY"
      },
      "source": [
        "Since $\\nabla_{\\hat{y}}J\\nabla_{z^{out}}\\hat{y}$ repeats in both gradient calculations, let $G = \\nabla_{\\hat{y}}J\\nabla_{z^{out}}\\hat{y}$\n",
        "\n",
        "$$G = \\nabla_{\\hat{y}}J\\nabla_{z^{out}}\\hat{y}=-[\\frac{y_1}{\\hat{y}_1} \\dots \\frac{y_c}{\\hat{y}_c}]_{1 \\times c}\\begin{bmatrix} \\hat{y}_1(1-\\hat{y}_1) \\dots -\\hat{y}_1\\hat{y}_c \\\\ \\vdots \\\\ -\\hat{y}_c\\hat{y}_1 \\dots \\hat{y}_c(1-\\hat{y}_c) \\end{bmatrix}_{c \\times c}=[\\hat{y}-y]^T_{1 \\times c}$$\n",
        "\n",
        "$\\implies \\nabla_{b^{out}}J=G\\nabla_{b^{out}}z=GI=G$\n",
        "\n",
        "$\\implies \\nabla_{W^{out}}J=G\\nabla_{W^{out}}z^{out}$"
      ]
    },
    {
      "cell_type": "markdown",
      "metadata": {
        "id": "GZ0KRkJWFyak"
      },
      "source": [
        "## GRADIENT WRT $b^{i}$\n",
        "\n"
      ]
    },
    {
      "cell_type": "markdown",
      "metadata": {
        "id": "rooO7gQRF3c5"
      },
      "source": [
        "$\\nabla_{b^{i}}J=\\nabla_{\\hat{y}}J\\nabla_{z^{out}}\\hat{y}\\nabla_{b^{i}}z^{out}$"
      ]
    },
    {
      "cell_type": "markdown",
      "metadata": {
        "id": "C7dz_dGVH5vj"
      },
      "source": [
        "$z^{out} = W^{out}a^{Q}+b^{out} \\\\ \\implies \\nabla_{b^i}z^{out}=\\nabla_{b^i}[W^{out}a^{Q}] + \\nabla_{b^i}b^{out} \\\\ =\\nabla_{a^Q}[W^{out}a^{Q}]\\nabla_{b^i}a^{Q} + 0 = W^{out}\\nabla_{b^i}a^{Q}$\r\n"
      ]
    },
    {
      "cell_type": "markdown",
      "metadata": {
        "id": "HBSjHwwpIE_E"
      },
      "source": [
        "\n",
        "\n",
        "$a^Q=\\text{Act}(z^Q) \\\\ \\implies \\nabla_{b^i}a^Q=\\nabla_{b^i}\\text{Act}(z^Q) \\\\ =\\nabla_{z^Q}\\text{Act}(z^Q) \\nabla_{b^i}z^Q$\n"
      ]
    },
    {
      "cell_type": "markdown",
      "metadata": {
        "id": "cMjztAxEH9Gx"
      },
      "source": [
        "\r\n",
        "$z^Q = W^Qa^{Q-1} + b^Q \\\\ \\implies \\nabla_{b^i}z^{Q} = \\nabla_{b^i}[W^Qa^{Q-1}] + \\nabla_{b^i}b^Q \\\\ =\\nabla_{a^{Q-1}}[W^Qa^{Q-1}] \\nabla_{b^i}a^{Q-1} + 0 = W^Q\\nabla_{b^i}a^{Q-1}$\r\n",
        "\r\n",
        "This keeps on repeating until we reach $a^i$, in which case\r\n",
        "\r\n",
        "$a^i = \\text{Act}(z^i) \\implies \\nabla_{b^i}a^i=\\nabla_{z^i}\\text{Act}(z^i) \\nabla_{b^i}z^i$\r\n",
        "\r\n",
        "\r\n",
        "$z^i = W^ia^{i-1}+b^i \\implies \\nabla_{b^i}z^i=I$\r\n",
        "\r\n",
        "$\\implies \\nabla_{b^i}z^{out} = W^{out}\\nabla_{z^Q}\\text{Act}(z^Q)W^Q  \\dots \\nabla_{z^{i+1}}\\text{Act}(z^{i+1}) W^{i+1}I$\r\n",
        "\r\n",
        "$\\implies \\nabla_{b^{i}}J = GW^{out}\\nabla_{z^Q}\\text{Act}(z^Q)W^Q  \\dots \\nabla_{z^{i+1}}\\text{Act}(z^{i+1}) W^{i+1}I$, where, $i \\in [1, Q-1]$"
      ]
    },
    {
      "cell_type": "markdown",
      "metadata": {
        "id": "fy897wbaK-as"
      },
      "source": [
        "## GRADIENT WRT $W^{i}$\n",
        "\n"
      ]
    },
    {
      "cell_type": "markdown",
      "metadata": {
        "id": "5qaqqFbvLBQw"
      },
      "source": [
        "$\\nabla_{W^{i}}J=\\nabla_{\\hat{y}}J\\nabla_{z^{out}}\\hat{y}\\nabla_{W^{i}}z^{out}$"
      ]
    },
    {
      "cell_type": "markdown",
      "metadata": {
        "id": "-d7cADqVIBNz"
      },
      "source": [
        "$z^{out} = W^{out}a^{Q}+b^{out} \\\\ \\implies \\nabla_{W^i}z^{out}=\\nabla_{W^i}[W^{out}a^{Q}] + \\nabla_{W^i}b^{out} \\\\ =\\nabla_{a^Q}[W^{out}a^{Q}]\\nabla_{W^i}a^{Q} + 0 = W^{out}\\nabla_{W^i}a^{Q}$\r\n"
      ]
    },
    {
      "cell_type": "markdown",
      "metadata": {
        "id": "5TqlE-MNLG18"
      },
      "source": [
        "\n",
        "$a^Q=\\text{Act}(z^Q) \\\\ \\implies \\nabla_{W^i}a^Q=\\nabla_{W^i}\\text{Act}(z^Q) \\\\ =\\nabla_{z^Q}\\text{Act}(z^Q) \\nabla_{W^i}z^Q$"
      ]
    },
    {
      "cell_type": "markdown",
      "metadata": {
        "id": "S33usdopCm7x"
      },
      "source": [
        "## $\\nabla_{z^i}\\text{Act}(z^i)$\n",
        "\n",
        "Since $\\text{Act}(z^i)$ is an element wise vector valued function, the gradient wrt it's argument ($z^i$) will always be a diagonal matrix\n",
        "\n",
        "Consider the example below\n",
        "\n",
        "Let $\\text{Act}(x) = \\text{ReLU}(x) = \\begin{cases} x \\quad; x > 0 \\\\ 0 \\quad; x \\leq 0 \\end{cases}, x \\in R$\n",
        "\n",
        "$\\frac{d}{dx} \\text{ReLU}(x) = \\begin{cases} 1 \\quad; x >0 \\\\ 0 \\quad; x \\leq 0\\end{cases}$\n",
        "\n",
        "$\\implies \\nabla_{z^i}\\text{ReLU}(z^i) = \\text{diagonal}([\\frac{d}{dx} \\text{ReLU}(z^i_1) \\dots \\frac{d}{dx} \\text{ReLU}(z^i_{n_i})])$. Assuming there are $n_i$ units in the current layer\n",
        "\n"
      ]
    },
    {
      "cell_type": "markdown",
      "metadata": {
        "id": "1mUCR5RUIEnB"
      },
      "source": [
        "\r\n",
        "$z^Q = W^Qa^{Q-1} + b^Q \\\\ \\implies \\nabla_{W^i}z^{Q} = \\nabla_{W^i}[W^Qa^{Q-1}] + \\nabla_{W^i}b^Q \\\\ =\\nabla_{a^{Q-1}}[W^Qa^{Q-1}] \\nabla_{W^i}a^{Q-1} + 0 = W^Q\\nabla_{W^i}a^{Q-1}$\r\n",
        "\r\n",
        "This keeps on repeating until we reach $a^i$, in which case\r\n",
        "\r\n",
        "$a^i=\\text{Act}(z^i) \\implies \\nabla_{W^i}z^i=\\nabla_{W^i}\\text{Act}(z^i)=\\nabla_{z^i}\\text{Act}(z^i) \\nabla_{W^i}z^i$\r\n",
        "\r\n",
        "$z^i = W^ia^{i-1}+b^i \\implies \\nabla_{W^i}z^i=\\begin{bmatrix} \\begin{bmatrix} - a^{i-1} - \\\\ \\vdots \\\\ -0-\\end{bmatrix} \\dots \\begin{bmatrix} - 0 - \\\\ \\vdots \\\\ -a^{i-1}-\\end{bmatrix}\\end{bmatrix}$\r\n",
        "\r\n",
        "$\\implies \\nabla_{W^i}z^{out} = W^{out}\\nabla_{z^Q}\\text{Act}(z^Q)W^Q \\dots \\nabla_{z^{i+1}}\\text{Act}(z^{i+1})W^{i+1}\\nabla_{W^i}z^i$\r\n",
        "\r\n",
        "$\\implies \\nabla_{W^{i}}J = GW^{out}\\nabla_{z^Q}\\text{Act}(z^Q)W^Q \\dots \\nabla_{z^{i+1}}\\text{Act}(z^{i+1})W^{i+1}\\nabla_{W^i}z^i$, where, $i \\in [1, Q-1]$"
      ]
    },
    {
      "cell_type": "markdown",
      "metadata": {
        "id": "tpaoj5JlDSHQ"
      },
      "source": [
        "# IMPLEMENTATION\n",
        "\n"
      ]
    },
    {
      "cell_type": "code",
      "metadata": {
        "id": "yw8xGxPuDqG5"
      },
      "source": [
        "import numpy as np\n",
        "import pandas as pd \n",
        "from sklearn.datasets import load_wine, make_circles, make_moons\n",
        "from sklearn.metrics import confusion_matrix\n",
        "from scipy.special import softmax\n",
        "import time\n",
        "SEED = 49\n",
        "\n",
        "import matplotlib.pyplot as plt\n",
        "plt.rcParams.update({'axes.titlesize': 20, \n",
        "                     'axes.labelsize': 15,\n",
        "                     'xtick.labelsize':10,\n",
        "                     'ytick.labelsize':10\n",
        "                     })"
      ],
      "execution_count": null,
      "outputs": []
    },
    {
      "cell_type": "code",
      "metadata": {
        "colab": {
          "base_uri": "https://localhost:8080/",
          "height": 286
        },
        "id": "uk6LMjG9GjxO",
        "outputId": "7b51756e-8792-43d8-dced-d5eefcdd82cb"
      },
      "source": [
        "n = 200\n",
        "X1, y1 = make_moons(n_samples=n, random_state=SEED, noise=0.05)\n",
        "X2, y2 = make_moons(n_samples=n, random_state=SEED, noise=0.05)\n",
        "X2[:, 0] = X2[:, 0] + 4\n",
        "y2 = y2 + 2\n",
        "X, y = np.r_[X1, X2], np.r_[y1, y2]\n",
        "\n",
        "colors = ['red', 'blue', 'green', 'black']\n",
        "temp = np.zeros((y.size, y.max()+1))\n",
        "temp[np.arange(y.size), y] = 1\n",
        "y = temp\n",
        "\n",
        "plt.title('Non Linear Data with multiple classes')\n",
        "for cls in np.unique(y.argmax(axis=-1)):\n",
        "    idxs = np.where(y.argmax(axis=-1) == cls)\n",
        "    plt.scatter(X[idxs, 0], X[idxs, 1], color=colors[cls])\n",
        "\n",
        "plt.grid()\n",
        "plt.show()"
      ],
      "execution_count": null,
      "outputs": [
        {
          "output_type": "display_data",
          "data": {
            "image/png": "[encoded data removed]",
            "text/plain": [
              "<Figure size 432x288 with 1 Axes>"
            ]
          },
          "metadata": {
            "tags": [],
            "needs_background": "light"
          }
        }
      ]
    },
    {
      "cell_type": "markdown",
      "metadata": {
        "id": "qsSENvXkDWFQ"
      },
      "source": [
        "## INIT PARAMS\n",
        "\n"
      ]
    },
    {
      "cell_type": "code",
      "metadata": {
        "id": "9yiDMXafD7hK"
      },
      "source": [
        "# batch size\n",
        "m = 4"
      ],
      "execution_count": null,
      "outputs": []
    },
    {
      "cell_type": "markdown",
      "metadata": {
        "id": "x0zPQaBMJckb"
      },
      "source": [
        "## ACTIVATIONS"
      ]
    },
    {
      "cell_type": "code",
      "metadata": {
        "id": "t1B-hNjMJabC"
      },
      "source": [
        "def relu(x):\n",
        "    \"\"\"\n",
        "    x: numpy vector (shape=(batch_size, n))\n",
        "    \"\"\"\n",
        "    neg_mask = np.where(x <= 0)\n",
        "    x[neg_mask] = 0\n",
        "    return x\n",
        "\n",
        "def grad_relu(x):\n",
        "    \"\"\"\n",
        "    x: numpy vector (shape=(batch_size, n))\n",
        "    \"\"\"\n",
        "    grad = np.zeros((x.shape[0], x.shape[1], x.shape[1]))\n",
        "    idxs = np.arange(x.shape[1])\n",
        "    grad[:, idxs, idxs] = (x > 0).astype(int)\n",
        "\n",
        "    return grad\n",
        "\n",
        "def grad_softmax(x):\n",
        "    \"\"\"\n",
        "    x: numpy vector (shape=(batch_size, n))\n",
        "    \"\"\"\n",
        "    ## tile along axis 1 by first\n",
        "    ## expanding dims along axis 1\n",
        "    ## then multiplying by ones\n",
        "    ## substract by I\n",
        "    ## multiply along axis 1 by x.T\n",
        "\n",
        "    x_ = np.expand_dims(x, axis=1)\n",
        "    grad = np.eye(x.shape[1]) - (x_ * np.ones((x.shape[1], 1)))\n",
        "    grad = np.transpose(x_, axes=(0,2,1)) * grad\n",
        "\n",
        "    return grad"
      ],
      "execution_count": null,
      "outputs": []
    },
    {
      "cell_type": "code",
      "metadata": {
        "colab": {
          "base_uri": "https://localhost:8080/"
        },
        "id": "_YU2oheZKMyj",
        "outputId": "78eee81d-b8b4-40e7-ce4f-1ad3a4a54a99"
      },
      "source": [
        "x = np.random.normal(size=(m,4))\n",
        "x"
      ],
      "execution_count": null,
      "outputs": [
        {
          "output_type": "execute_result",
          "data": {
            "text/plain": [
              "array([[-1.16679977,  0.14399644, -0.81413409,  0.05442385],\n",
              "       [-0.62113985, -0.22144308,  1.17637246, -1.09831468],\n",
              "       [ 1.06238236, -0.42337158,  0.81657401, -0.78376378],\n",
              "       [ 0.56914055,  0.86095188, -0.58595437,  0.74351089]])"
            ]
          },
          "metadata": {
            "tags": []
          },
          "execution_count": 141
        }
      ]
    },
    {
      "cell_type": "code",
      "metadata": {
        "colab": {
          "base_uri": "https://localhost:8080/"
        },
        "id": "AQtiV8JaKXkX",
        "outputId": "05b6a60e-b547-4a58-8d70-dbaacfce0d73"
      },
      "source": [
        "print('RELU\\n\\nactivation:\\n{}\\n\\ngradient:\\n{}'.format(relu(x), grad_relu(x)))"
      ],
      "execution_count": null,
      "outputs": [
        {
          "output_type": "stream",
          "text": [
            "RELU\n",
            "\n",
            "activation:\n",
            "[[0.         0.14399644 0.         0.05442385]\n",
            " [0.         0.         1.17637246 0.        ]\n",
            " [1.06238236 0.         0.81657401 0.        ]\n",
            " [0.56914055 0.86095188 0.         0.74351089]]\n",
            "\n",
            "gradient:\n",
            "[[[0. 0. 0. 0.]\n",
            "  [0. 1. 0. 0.]\n",
            "  [0. 0. 0. 0.]\n",
            "  [0. 0. 0. 1.]]\n",
            "\n",
            " [[0. 0. 0. 0.]\n",
            "  [0. 0. 0. 0.]\n",
            "  [0. 0. 1. 0.]\n",
            "  [0. 0. 0. 0.]]\n",
            "\n",
            " [[1. 0. 0. 0.]\n",
            "  [0. 0. 0. 0.]\n",
            "  [0. 0. 1. 0.]\n",
            "  [0. 0. 0. 0.]]\n",
            "\n",
            " [[1. 0. 0. 0.]\n",
            "  [0. 1. 0. 0.]\n",
            "  [0. 0. 0. 0.]\n",
            "  [0. 0. 0. 1.]]]\n"
          ],
          "name": "stdout"
        }
      ]
    },
    {
      "cell_type": "code",
      "metadata": {
        "colab": {
          "base_uri": "https://localhost:8080/"
        },
        "id": "BZij_DqOW9VG",
        "outputId": "f186fcdc-baee-41f1-d3d1-581eab31c204"
      },
      "source": [
        "print('SOFTMAX\\n\\nactivation:\\n{}\\n\\ngradient:\\n{}'.format(softmax(x, axis=1), grad_softmax(x)))"
      ],
      "execution_count": null,
      "outputs": [
        {
          "output_type": "stream",
          "text": [
            "SOFTMAX\n",
            "\n",
            "activation:\n",
            "[[0.23748388 0.27426539 0.23748388 0.25076685]\n",
            " [0.16018992 0.16018992 0.51943025 0.16018992]\n",
            " [0.40431241 0.13974307 0.31620145 0.13974307]\n",
            " [0.24417887 0.32691898 0.13820809 0.29069406]]\n",
            "\n",
            "gradient:\n",
            "[[[ 0.         -0.          0.         -0.        ]\n",
            "  [ 0.          0.12326147  0.         -0.00783684]\n",
            "  [ 0.         -0.          0.         -0.        ]\n",
            "  [ 0.         -0.00783684  0.          0.05146189]]\n",
            "\n",
            " [[ 0.          0.         -0.          0.        ]\n",
            "  [ 0.          0.         -0.          0.        ]\n",
            "  [ 0.          0.         -0.20747971  0.        ]\n",
            "  [ 0.          0.         -0.          0.        ]]\n",
            "\n",
            " [[-0.06627392  0.         -0.86751382  0.        ]\n",
            "  [-0.          0.         -0.          0.        ]\n",
            "  [-0.86751382  0.          0.1497809   0.        ]\n",
            "  [-0.          0.         -0.          0.        ]]\n",
            "\n",
            " [[ 0.24521958 -0.49000263  0.         -0.4231622 ]\n",
            "  [-0.49000263  0.11971374  0.         -0.6401271 ]\n",
            "  [-0.         -0.          0.         -0.        ]\n",
            "  [-0.4231622  -0.6401271   0.          0.19070245]]]\n"
          ],
          "name": "stdout"
        }
      ]
    },
    {
      "cell_type": "code",
      "metadata": {
        "id": "gmydqr-mKhck"
      },
      "source": [
        "## use this for calculating activations\n",
        "ACTIVATIONS = {\n",
        "    'relu': relu,\n",
        "    'softmax': lambda x: softmax(x, axis=1)\n",
        "}\n",
        "\n",
        "## use this for calculating gradients\n",
        "GRADS = {\n",
        "    'relu': grad_relu,\n",
        "    'softmax': grad_softmax\n",
        "}"
      ],
      "execution_count": null,
      "outputs": []
    },
    {
      "cell_type": "markdown",
      "metadata": {
        "id": "rLy7ib-jK4I0"
      },
      "source": [
        "## DEFINE LAYER"
      ]
    },
    {
      "cell_type": "code",
      "metadata": {
        "id": "RH7ZVtFzEi6W"
      },
      "source": [
        "class Layer(object):\n",
        "    def __init__(self, \n",
        "                 in_size=None, ## size of the input vector\n",
        "                 out_size=None, ## size of output vector\n",
        "                 activation=None ## activation function on logits\n",
        "    ):\n",
        "        \"\"\"\n",
        "        in_size: int\n",
        "        out_size: int\n",
        "        activation: str\n",
        "        \"\"\"\n",
        "        self.activation = activation\n",
        "\n",
        "        ## init params from standard normal\n",
        "        self.W = np.random.normal(size=(out_size, in_size))\n",
        "        self.b = np.random.normal(size=(out_size,1))\n",
        "\n",
        "        # store activation for backward step\n",
        "        # to avoid calculation multiple times\n",
        "        self.z = None\n",
        "\n",
        "    def forward(self,\n",
        "                in_vec ## input vector = x, previous layer's activation\n",
        "                        ## shape = m,n, transpose to make column vectors\n",
        "                ):\n",
        "        ### calculate logits\n",
        "        ## z = Wx+b\n",
        "        ## return a = activation(z)\n",
        "\n",
        "        ## (out_size, in_size) * (in_size, m) = (out_size, m)\n",
        "        z = np.matmul(self.W, in_vec.T) + self.b\n",
        "\n",
        "        ## reshape to (m, out_size)\n",
        "        z = z.T\n",
        "        assert z.shape == (m, self.W.shape[0])\n",
        "\n",
        "        self.z = z\n",
        "\n",
        "        ### apply non linearity\n",
        "        a = ACTIVATIONS[self.activation](z)\n",
        "        \n",
        "        return a\n",
        "    \n",
        "    def backward(self, \n",
        "                 in_vec,\n",
        "                 G, ## backpropagated grads\n",
        "                 lr ## learning rate\n",
        "                 ):\n",
        "        ## in_vec = previous layer's acivation\n",
        "        ## G = matrix that needs to be multiplied for backpropagation\n",
        "\n",
        "        ## multiply G by gradient of activation\n",
        "        ## (m, 1, out)*(m,out,out) = (m,1,out)\n",
        "        usable_G = np.matmul(G, \n",
        "                             GRADS[self.activation](self.z))\n",
        "\n",
        "        # updated G = usable_G*W\n",
        "        ## update G before updating params\n",
        "        ## (m, 1, out)*(out, in) = (m, 1, in)\n",
        "        ## in for this layer will be out for previous layer\n",
        "        upd_G = np.matmul(usable_G, self.W)\n",
        "        assert upd_G.shape == (m, 1, self.W.shape[1])\n",
        "\n",
        "        ## nabla_b_i J = usable_GI = usable_G\n",
        "        ## average along batch\n",
        "        grad_b = usable_G.mean(axis=0).T\n",
        "        assert grad_b.shape == self.b.shape\n",
        "\n",
        "        self.b -= lr*grad_b\n",
        "\n",
        "        # gradient wrt W = usable_G nabla_W_z\n",
        "        ## reshape usable_G for matmul\n",
        "        reshaped_G =  np.expand_dims(usable_G, axis=1)\n",
        "        assert reshaped_G.shape == (m,1,1, self.W.shape[0])\n",
        "\n",
        "        nabla_W_z = (np.eye(self.W.shape[0])[np.newaxis, :, :, np.newaxis]*in_vec[:, np.newaxis, np.newaxis, :])\n",
        "        assert nabla_W_z.shape == (m, self.W.shape[0], self.W.shape[0], self.W.shape[1])\n",
        "\n",
        "        gradient_W_loss = np.matmul(reshaped_G, nabla_W_z)\n",
        "        assert gradient_W_loss.shape == (m, self.W.shape[0], 1, self.W.shape[1])\n",
        "\n",
        "        ## reduce dims along axis=2\n",
        "        gradient_W_loss = gradient_W_loss.reshape(m, self.W.shape[0], self.W.shape[1])\n",
        "\n",
        "        ## average along batch\n",
        "        gradient_W_loss = gradient_W_loss.mean(axis=0)\n",
        "        self.W -= lr*gradient_W_loss\n",
        "\n",
        "        return upd_G"
      ],
      "execution_count": null,
      "outputs": []
    },
    {
      "cell_type": "code",
      "metadata": {
        "colab": {
          "base_uri": "https://localhost:8080/"
        },
        "id": "JDa1r3YfMX2M",
        "outputId": "15a96a9b-d5c4-4326-c77c-4413124d9e84"
      },
      "source": [
        "layer = Layer(in_size=X.shape[1], \n",
        "              out_size=y.shape[1], \n",
        "              activation='softmax')\n",
        "rand_idxs = np.random.randint(0, len(X), size=m)\n",
        "\n",
        "x = X[rand_idxs, :]\n",
        "\n",
        "y_pred = layer.forward(x)\n",
        "y_true = y[rand_idxs, :]\n",
        "y_pred, y_true"
      ],
      "execution_count": null,
      "outputs": [
        {
          "output_type": "execute_result",
          "data": {
            "text/plain": [
              "(array([[4.23879232e-03, 7.04677360e-03, 4.34586335e-02, 9.45255801e-01],\n",
              "        [1.88879943e-04, 1.22622522e-04, 6.80417044e-03, 9.92884327e-01],\n",
              "        [2.20375556e-04, 1.28892194e-04, 3.60471695e-03, 9.96046015e-01],\n",
              "        [2.61878328e-02, 9.76837532e-02, 2.33797331e-01, 6.42331083e-01]]),\n",
              " array([[0., 1., 0., 0.],\n",
              "        [0., 0., 0., 1.],\n",
              "        [0., 0., 1., 0.],\n",
              "        [0., 1., 0., 0.]]))"
            ]
          },
          "metadata": {
            "tags": []
          },
          "execution_count": 146
        }
      ]
    },
    {
      "cell_type": "markdown",
      "metadata": {
        "id": "UIQ0ZZxIdifD"
      },
      "source": [
        "## DEFINE NETWORK"
      ]
    },
    {
      "cell_type": "code",
      "metadata": {
        "id": "BEQhdKVu6jzM"
      },
      "source": [
        "def forward_pass(in_vec, W_out, b_out):\r\n",
        "    vec = in_vec\r\n",
        "    for lyr in layers:\r\n",
        "        vec = lyr.forward(vec)\r\n",
        "    \r\n",
        "    z_out = np.matmul(W_out, vec.T) + b_out\r\n",
        "    z_out = z_out.T\r\n",
        "\r\n",
        "    y_hat = softmax(z_out, axis=1)\r\n",
        "\r\n",
        "    return y_hat"
      ],
      "execution_count": null,
      "outputs": []
    },
    {
      "cell_type": "code",
      "metadata": {
        "id": "UxNZ00Ms8Qa6"
      },
      "source": [
        "def back_propagation(in_vec, lr, y_true, W_out, b_out):\r\n",
        "    vec = in_vec\r\n",
        "    inputs = []\r\n",
        "\r\n",
        "    for lyr in layers:\r\n",
        "        inputs.append(vec)\r\n",
        "        vec = lyr.forward(vec)\r\n",
        "\r\n",
        "    z_out = np.matmul(W_out, vec.T) + b_out\r\n",
        "    z_out = z_out.T\r\n",
        "\r\n",
        "    y_hat = softmax(z_out, axis=1)\r\n",
        "\r\n",
        "    batch_loss = np.sum(-y_true*np.log(y_hat+1e-8), axis=1)\r\n",
        "\r\n",
        "    ## calculate gradients for last layer seperately\r\n",
        "    ## to avoid numerical overflow\r\n",
        "\r\n",
        "    G = np.expand_dims(y_hat-y_true, axis=1)\r\n",
        "    assert G.shape == (m, 1, W_out.shape[0])\r\n",
        "\r\n",
        "    back_G = np.matmul(G, W_out)\r\n",
        "\r\n",
        "    b_out -= lr*G.mean(axis=0).T\r\n",
        "\r\n",
        "    nabla_W_z = (np.eye(W_out.shape[0])[np.newaxis, :, :, np.newaxis]*vec[:, np.newaxis, np.newaxis, :])\r\n",
        "    assert nabla_W_z.shape == (m, W_out.shape[0], W_out.shape[0], W_out.shape[1])\r\n",
        "\r\n",
        "    #print(G.shape, nabla_W_z.shape)\r\n",
        "\r\n",
        "    gradient_W_loss = np.matmul(np.expand_dims(G, axis=1), nabla_W_z)\r\n",
        "    assert gradient_W_loss.shape == (m, W_out.shape[0], 1, W_out.shape[1])\r\n",
        "\r\n",
        "    ## reduce dims along axis=2\r\n",
        "    gradient_W_loss = gradient_W_loss.reshape(m, W_out.shape[0], W_out.shape[1])\r\n",
        "\r\n",
        "    ## average along batch\r\n",
        "    gradient_W_loss = gradient_W_loss.mean(axis=0)\r\n",
        "    W_out -= lr*gradient_W_loss\r\n",
        "\r\n",
        "    for idx in range(len(layers)):\r\n",
        "        lyr = layers[len(layers)-1-idx]\r\n",
        "        vec = inputs[len(layers)-1-idx]\r\n",
        "        back_G = lyr.backward(vec, back_G, lr)\r\n",
        "\r\n",
        "    return batch_loss, W_out, b_out"
      ],
      "execution_count": null,
      "outputs": []
    },
    {
      "cell_type": "code",
      "metadata": {
        "colab": {
          "base_uri": "https://localhost:8080/"
        },
        "id": "ZgOG3hd4_jCC",
        "outputId": "72758f11-1926-4107-f12e-0979ce91dfcf"
      },
      "source": [
        "m = 64\r\n",
        "epoch_losses = []\r\n",
        "config = {\r\n",
        "    'hidden_1': {'in_size': X.shape[1], 'out_size': 64, 'activation': 'relu'},\r\n",
        "    'hidden_2': {'in_size': 64, 'out_size': 128, 'activation': 'relu'},\r\n",
        "    'output': {'in_size': 128, 'out_size': y.shape[1], 'activation': 'softmax'}\r\n",
        "}\r\n",
        "\r\n",
        "## init params for the output layer\r\n",
        "W_out = np.random.random((config['output']['out_size'], config['output']['in_size']))\r\n",
        "b_out = np.random.random((config['output']['out_size'], 1))\r\n",
        "\r\n",
        "## define hidden layers\r\n",
        "layers = [Layer(**v) for k, v in config.items() if k != 'output']\r\n",
        "\r\n",
        "lr = 5e-4\r\n",
        "\r\n",
        "num_epochs = 30\r\n",
        "for epoch in range(num_epochs):\r\n",
        "    ## loop train_size//batch_size times\r\n",
        "    epoch_loss = 0\r\n",
        "    start = time.time()\r\n",
        "    for batch_num in range(len(X)//m + 1):\r\n",
        "        rand_idxs = np.random.randint(0, X.shape[0], size=m)\r\n",
        "        \r\n",
        "        batch_loss, W_out, b_out = back_propagation(X[rand_idxs, :], \r\n",
        "                                                    lr, \r\n",
        "                                                    y[rand_idxs, :], W_out, b_out)\r\n",
        "        \r\n",
        "        epoch_loss += batch_loss.sum()\r\n",
        "    print('epoch {} done in {:.2f}s'.format(epoch+1, time.time()-start))\r\n",
        "    epoch_losses.append(epoch_loss/(batch_num+1)*m)\r\n"
      ],
      "execution_count": null,
      "outputs": [
        {
          "output_type": "stream",
          "text": [
            "epoch 1 done in 3.35s\n",
            "epoch 2 done in 3.33s\n",
            "epoch 3 done in 3.30s\n",
            "epoch 4 done in 3.36s\n",
            "epoch 5 done in 3.30s\n",
            "epoch 6 done in 3.31s\n",
            "epoch 7 done in 3.35s\n",
            "epoch 8 done in 3.33s\n",
            "epoch 9 done in 3.30s\n",
            "epoch 10 done in 3.31s\n",
            "epoch 11 done in 3.31s\n",
            "epoch 12 done in 3.34s\n",
            "epoch 13 done in 3.29s\n",
            "epoch 14 done in 3.37s\n",
            "epoch 15 done in 3.31s\n",
            "epoch 16 done in 3.34s\n",
            "epoch 17 done in 3.34s\n",
            "epoch 18 done in 3.34s\n",
            "epoch 19 done in 3.33s\n",
            "epoch 20 done in 3.34s\n",
            "epoch 21 done in 3.35s\n",
            "epoch 22 done in 3.32s\n",
            "epoch 23 done in 3.35s\n",
            "epoch 24 done in 3.32s\n",
            "epoch 25 done in 3.33s\n",
            "epoch 26 done in 3.35s\n",
            "epoch 27 done in 3.33s\n",
            "epoch 28 done in 3.31s\n",
            "epoch 29 done in 3.30s\n",
            "epoch 30 done in 3.31s\n"
          ],
          "name": "stdout"
        }
      ]
    },
    {
      "cell_type": "code",
      "metadata": {
        "colab": {
          "base_uri": "https://localhost:8080/",
          "height": 305
        },
        "id": "rshnna7XBYnd",
        "outputId": "5c18b455-f573-4a40-8ea4-142bc37cfe88"
      },
      "source": [
        "#epoch_losses = epoch_losses[4:]\r\n",
        "plt.title('Mean Epoch Loss')\r\n",
        "plt.plot(range(len(epoch_losses)), epoch_losses)\r\n",
        "plt.xlabel('epoch')\r\n",
        "plt.ylabel('mean loss')\r\n",
        "plt.grid()\r\n",
        "plt.show()"
      ],
      "execution_count": null,
      "outputs": [
        {
          "output_type": "display_data",
          "data": {
            "image/png": "[encoded data removed]",
            "text/plain": [
              "<Figure size 432x288 with 1 Axes>"
            ]
          },
          "metadata": {
            "tags": [],
            "needs_background": "light"
          }
        }
      ]
    },
    {
      "cell_type": "code",
      "metadata": {
        "id": "f3aBjVK1Bj4N"
      },
      "source": [
        "all_y_hat = []\r\n",
        "for batch_num in range(len(X)//m):\r\n",
        "    y_hat = forward_pass(X[m*batch_num: m*(batch_num+1), :], W_out, b_out)\r\n",
        "    all_y_hat.append(y_hat)\r\n",
        "all_y_hat = np.concatenate(all_y_hat, axis=0)"
      ],
      "execution_count": null,
      "outputs": []
    },
    {
      "cell_type": "code",
      "metadata": {
        "colab": {
          "base_uri": "https://localhost:8080/",
          "height": 166
        },
        "id": "YoTSPYLLBsgz",
        "outputId": "ebbfa1dc-b9b3-4ef4-a59e-86f7c92b5df1"
      },
      "source": [
        "conf_mat = confusion_matrix(y[:len(all_y_hat)].argmax(axis=-1), \r\n",
        "                 all_y_hat.argmax(axis=-1), labels = [0,1,2,3])\r\n",
        "prec = np.diag(conf_mat)/conf_mat.sum(axis=0)\r\n",
        "rec = np.diag(conf_mat)/conf_mat.sum(axis=1)\r\n",
        "f1 = 2*prec*rec/(prec+rec)\r\n",
        "\r\n",
        "res_df = pd.DataFrame(conf_mat, columns = ['{}_pred'.format(i) for i in [0,1,2,3]],\r\n",
        "                      index = ['{}_true'.format(i) for i in [0,1,2,3]])\r\n",
        "res_df['precision'] = prec\r\n",
        "res_df['recall'] = rec\r\n",
        "res_df['f1'] = f1\r\n",
        "res_df"
      ],
      "execution_count": null,
      "outputs": [
        {
          "output_type": "execute_result",
          "data": {
            "text/html": [
              "<div>\n",
              "<style scoped>\n",
              "    .dataframe tbody tr th:only-of-type {\n",
              "        vertical-align: middle;\n",
              "    }\n",
              "\n",
              "    .dataframe tbody tr th {\n",
              "        vertical-align: top;\n",
              "    }\n",
              "\n",
              "    .dataframe thead th {\n",
              "        text-align: right;\n",
              "    }\n",
              "</style>\n",
              "<table border=\"1\" class=\"dataframe\">\n",
              "  <thead>\n",
              "    <tr style=\"text-align: right;\">\n",
              "      <th></th>\n",
              "      <th>0_pred</th>\n",
              "      <th>1_pred</th>\n",
              "      <th>2_pred</th>\n",
              "      <th>3_pred</th>\n",
              "      <th>precision</th>\n",
              "      <th>recall</th>\n",
              "      <th>f1</th>\n",
              "    </tr>\n",
              "  </thead>\n",
              "  <tbody>\n",
              "    <tr>\n",
              "      <th>0_true</th>\n",
              "      <td>84</td>\n",
              "      <td>9</td>\n",
              "      <td>0</td>\n",
              "      <td>7</td>\n",
              "      <td>0.840000</td>\n",
              "      <td>0.840000</td>\n",
              "      <td>0.840000</td>\n",
              "    </tr>\n",
              "    <tr>\n",
              "      <th>1_true</th>\n",
              "      <td>16</td>\n",
              "      <td>82</td>\n",
              "      <td>0</td>\n",
              "      <td>2</td>\n",
              "      <td>0.901099</td>\n",
              "      <td>0.820000</td>\n",
              "      <td>0.858639</td>\n",
              "    </tr>\n",
              "    <tr>\n",
              "      <th>2_true</th>\n",
              "      <td>0</td>\n",
              "      <td>0</td>\n",
              "      <td>82</td>\n",
              "      <td>16</td>\n",
              "      <td>0.872340</td>\n",
              "      <td>0.836735</td>\n",
              "      <td>0.854167</td>\n",
              "    </tr>\n",
              "    <tr>\n",
              "      <th>3_true</th>\n",
              "      <td>0</td>\n",
              "      <td>0</td>\n",
              "      <td>12</td>\n",
              "      <td>74</td>\n",
              "      <td>0.747475</td>\n",
              "      <td>0.860465</td>\n",
              "      <td>0.800000</td>\n",
              "    </tr>\n",
              "  </tbody>\n",
              "</table>\n",
              "</div>"
            ],
            "text/plain": [
              "        0_pred  1_pred  2_pred  3_pred  precision    recall        f1\n",
              "0_true      84       9       0       7   0.840000  0.840000  0.840000\n",
              "1_true      16      82       0       2   0.901099  0.820000  0.858639\n",
              "2_true       0       0      82      16   0.872340  0.836735  0.854167\n",
              "3_true       0       0      12      74   0.747475  0.860465  0.800000"
            ]
          },
          "metadata": {
            "tags": []
          },
          "execution_count": 178
        }
      ]
    },
    {
      "cell_type": "code",
      "metadata": {
        "id": "DjVX-dn3zQ74"
      },
      "source": [
        ""
      ],
      "execution_count": null,
      "outputs": []
    }
  ]
}