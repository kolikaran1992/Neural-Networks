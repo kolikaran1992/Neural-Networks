{
  "nbformat": 4,
  "nbformat_minor": 0,
  "metadata": {
    "colab": {
      "name": "Positional Encoding.ipynb",
      "provenance": [],
      "collapsed_sections": [],
      "authorship_tag": "ABX9TyPvLWITaR5MjEankJt0SiJu",
      "include_colab_link": true
    },
    "kernelspec": {
      "name": "python3",
      "display_name": "Python 3"
    }
  },
  "cells": [
    {
      "cell_type": "markdown",
      "metadata": {
        "id": "view-in-github",
        "colab_type": "text"
      },
      "source": [
        "<a href=\"https://colab.research.google.com/github/kolikaran1992/Neural-Networks/blob/main/Positional_Encoding.ipynb\" target=\"_parent\"><img src=\"https://colab.research.google.com/assets/colab-badge.svg\" alt=\"Open In Colab\"/></a>"
      ]
    },
    {
      "cell_type": "code",
      "metadata": {
        "id": "Slhm3LcRR6Iw"
      },
      "source": [
        "import numpy as np\r\n",
        "\r\n",
        "SEED = 49\r\n",
        "\r\n",
        "import matplotlib.pyplot as plt\r\n",
        "plt.rcParams.update({'axes.titlesize': 20, \r\n",
        "                     'axes.labelsize': 15,\r\n",
        "                     'xtick.labelsize':10,\r\n",
        "                     'ytick.labelsize':10\r\n",
        "                     })"
      ],
      "execution_count": 1,
      "outputs": []
    },
    {
      "cell_type": "markdown",
      "metadata": {
        "id": "TzjJhAhqSATu"
      },
      "source": [
        "$$PE(p, 2i) = sin(\\frac{p}{10000^{\\frac{2i}{d}}})$$\r\n",
        "\r\n",
        "$$PE(p, 2i+1) = cos(\\frac{p}{10000^{\\frac{2i}{d}}})$$\r\n",
        "\r\n",
        "Where $d$ is the dimension of the input vectors"
      ]
    },
    {
      "cell_type": "code",
      "metadata": {
        "id": "0r9kA6G-R_KD"
      },
      "source": [
        "def get_angles(pos, i, d):\r\n",
        "    \"\"\"\r\n",
        "    pos.shape == (max_pos_enc,1)\r\n",
        "    i.shape = (1, d)\r\n",
        "    d is an int\r\n",
        "    \"\"\"\r\n",
        "    ## (i//2) == array like [[0,0, 1,1, ..., n,n]]\r\n",
        "    angle_rates = 1 / np.power(10000, (2 * (i//2)) / np.float32(d))\r\n",
        "    ## (max_pos_enc, 1)*(1, d) = (max_pos_enc, d)\r\n",
        "    return pos * angle_rates"
      ],
      "execution_count": 15,
      "outputs": []
    },
    {
      "cell_type": "code",
      "metadata": {
        "colab": {
          "base_uri": "https://localhost:8080/"
        },
        "id": "lgCWNuKOTas3",
        "outputId": "270e3c26-cd08-4410-b5bd-994e35c9081f"
      },
      "source": [
        "get_angles(np.arange(pos)[:, np.newaxis], \r\n",
        "           np.arange(d)[np.newaxis, :], \r\n",
        "           d)"
      ],
      "execution_count": 16,
      "outputs": [
        {
          "output_type": "execute_result",
          "data": {
            "text/plain": [
              "array([[0.00000000e+00, 0.00000000e+00, 0.00000000e+00, 0.00000000e+00,\n",
              "        0.00000000e+00],\n",
              "       [1.00000000e+00, 1.00000000e+00, 2.51188643e-02, 2.51188643e-02,\n",
              "        6.30957344e-04],\n",
              "       [2.00000000e+00, 2.00000000e+00, 5.02377286e-02, 5.02377286e-02,\n",
              "        1.26191469e-03],\n",
              "       [3.00000000e+00, 3.00000000e+00, 7.53565929e-02, 7.53565929e-02,\n",
              "        1.89287203e-03],\n",
              "       [4.00000000e+00, 4.00000000e+00, 1.00475457e-01, 1.00475457e-01,\n",
              "        2.52382938e-03],\n",
              "       [5.00000000e+00, 5.00000000e+00, 1.25594322e-01, 1.25594322e-01,\n",
              "        3.15478672e-03],\n",
              "       [6.00000000e+00, 6.00000000e+00, 1.50713186e-01, 1.50713186e-01,\n",
              "        3.78574407e-03],\n",
              "       [7.00000000e+00, 7.00000000e+00, 1.75832050e-01, 1.75832050e-01,\n",
              "        4.41670141e-03],\n",
              "       [8.00000000e+00, 8.00000000e+00, 2.00950915e-01, 2.00950915e-01,\n",
              "        5.04765876e-03],\n",
              "       [9.00000000e+00, 9.00000000e+00, 2.26069779e-01, 2.26069779e-01,\n",
              "        5.67861610e-03]])"
            ]
          },
          "metadata": {
            "tags": []
          },
          "execution_count": 16
        }
      ]
    },
    {
      "cell_type": "code",
      "metadata": {
        "id": "ucNWRGajS8gw"
      },
      "source": [
        "def positional_encoding(pos, d):\r\n",
        "    angle_rads = get_angles(np.arange(pos)[:, np.newaxis],\r\n",
        "                            np.arange(d)[np.newaxis, :],\r\n",
        "                            d)\r\n",
        "\r\n",
        "    # apply sin to even indices in the array; 2i\r\n",
        "    angle_rads[:, 0::2] = np.sin(angle_rads[:, 0::2])\r\n",
        "\r\n",
        "    # apply cos to odd indices in the array; 2i+1\r\n",
        "    angle_rads[:, 1::2] = np.cos(angle_rads[:, 1::2])\r\n",
        "\r\n",
        "    pos_encoding = angle_rads[np.newaxis, ...]\r\n",
        "\r\n",
        "    return pos_encoding.astype(np.float32)"
      ],
      "execution_count": 17,
      "outputs": []
    },
    {
      "cell_type": "code",
      "metadata": {
        "colab": {
          "base_uri": "https://localhost:8080/"
        },
        "id": "-XJSI0eaTKcH",
        "outputId": "40986522-4fde-41d6-b5e8-7b706c09e543"
      },
      "source": [
        "pos = 10\r\n",
        "d = 6\r\n",
        "pos_enc = positional_encoding(pos, d)\r\n",
        "pos_enc.shape"
      ],
      "execution_count": 30,
      "outputs": [
        {
          "output_type": "execute_result",
          "data": {
            "text/plain": [
              "(1, 10, 6)"
            ]
          },
          "metadata": {
            "tags": []
          },
          "execution_count": 30
        }
      ]
    },
    {
      "cell_type": "code",
      "metadata": {
        "colab": {
          "base_uri": "https://localhost:8080/",
          "height": 322
        },
        "id": "OKBQasfEVqme",
        "outputId": "69e9dfed-e19b-496c-96ff-b0d45b2aa82b"
      },
      "source": [
        "plt.title('Positional Encoding')\r\n",
        "plt.pcolormesh(pos_enc[0], cmap='RdBu')\r\n",
        "plt.xlabel('Depth')\r\n",
        "plt.xlim((0, d))\r\n",
        "plt.ylabel('Position')\r\n",
        "plt.colorbar()\r\n",
        "plt.show()\r\n",
        "print('sin and cosine are applied along depth at alternate positions')"
      ],
      "execution_count": 31,
      "outputs": [
        {
          "output_type": "display_data",
          "data": {
            "image/png": "[encoded data removed]",
            "text/plain": [
              "<Figure size 432x288 with 2 Axes>"
            ]
          },
          "metadata": {
            "tags": [],
            "needs_background": "light"
          }
        },
        {
          "output_type": "stream",
          "text": [
            "sin and cosine are applied along depth at alternate positions\n"
          ],
          "name": "stdout"
        }
      ]
    },
    {
      "cell_type": "markdown",
      "metadata": {
        "id": "5YPVN8gzYfAr"
      },
      "source": [
        "Each row in the above plot is a positional encoding"
      ]
    },
    {
      "cell_type": "markdown",
      "metadata": {
        "id": "_VUgYlUyW4B5"
      },
      "source": [
        "Using $\\text{sin}$ and $\\text{cos}$ in the positional encoding helps the model to attend to relative position. This is because $PE(p+k)$ is a linear combination of $PE(p)$ and $PE(k)$"
      ]
    },
    {
      "cell_type": "markdown",
      "metadata": {
        "id": "DgaI7B3WXleC"
      },
      "source": [
        "Let $10000^{\\frac{1}{d}}$ be n\r\n",
        "\r\n",
        "$$PE(p, 2i) = sin(\\frac{p}{n^{2i}})$$\r\n",
        "\r\n",
        "$$PE(p, 2i+1) = cos(\\frac{p}{n^{2i}})$$"
      ]
    },
    {
      "cell_type": "markdown",
      "metadata": {
        "id": "wZ3SJdNlXeQZ"
      },
      "source": [
        "$$PE(p+k, 2i) = sin(\\frac{p+k}{n^{2i}})=sin(\\frac{p}{n^{2i}})cos(\\frac{k}{n^{2i}})+sin(\\frac{k}{n^{2i}})cos(\\frac{p}{n^{2i}})$$\r\n",
        "\r\n",
        "$$PE(p+k, 2i+1) = sin(\\frac{p+k}{n^{2i}})=cos(\\frac{p}{n^{2i}})cos(\\frac{k}{n^{2i}})-sin(\\frac{p}{n^{2i}})sin(\\frac{k}{n^{2i}})$$"
      ]
    },
    {
      "cell_type": "markdown",
      "metadata": {
        "id": "nhuz6PJsdnHN"
      },
      "source": [
        "$$\\begin{bmatrix} PE(p+k, 2i) \\\\ PE(p+k, 2i+1)\\end{bmatrix}=\\begin{bmatrix} cos(\\frac{k}{n^{2i}}) \\quad sin(\\frac{k}{n^{2i}}) \\\\ -sin(\\frac{k}{n^{2i}}) \\quad cos(\\frac{k}{n^{2i}}) \\end{bmatrix}\\begin{bmatrix} PE(p, 2i) \\\\ PE(p, 2i+1)\\end{bmatrix}$$"
      ]
    },
    {
      "cell_type": "markdown",
      "metadata": {
        "id": "_olTc4Z0g8Il"
      },
      "source": [
        "$$PE(p) = \\begin{bmatrix} PE(p, 0) \\\\ PE(p, 1) \\\\ \\vdots \\\\ PE(p, 2i) \\\\ PE(p, 2i+1) \\\\ \\vdots \\\\ PE(p, 2n) \\\\ PE(p, 2n+1)\\end{bmatrix}$$\r\n",
        "\r\n",
        "Where, $2n+1=d$\r\n",
        "\r\n",
        "$$PE(p+k) = \\begin{bmatrix} M_1 \\quad 0 \\quad 0 \\quad \\dots \\quad 0 \\\\ 0 \\quad M_2 \\quad 0 \\quad \\dots \\quad 0 \\\\ 0 \\quad 0 \\quad M_3 \\quad \\dots \\quad 0 \\\\ \\vdots \\\\ \\quad 0 \\quad 0 \\quad \\  \\ 0 \\quad \\dots \\quad M_{d//2}\\end{bmatrix} PE(p)$$"
      ]
    },
    {
      "cell_type": "markdown",
      "metadata": {
        "id": "Vqh4l4VDiy1T"
      },
      "source": [
        "Where, $M_i = \\begin{bmatrix} cos(\\frac{k}{n^{2i}}) \\quad sin(\\frac{k}{n^{2i}}) \\\\ -sin(\\frac{k}{n^{2i}}) \\quad cos(\\frac{k}{n^{2i}}) \\end{bmatrix}$"
      ]
    },
    {
      "cell_type": "markdown",
      "metadata": {
        "id": "jc5JQUckjG_Y"
      },
      "source": [
        "Thereofore, $PE(p+k)$ is a linear function of $PE(p)$, furthermore, the linear transformation does not depend on $p$"
      ]
    },
    {
      "cell_type": "code",
      "metadata": {
        "id": "mPs8SwIaWIW3"
      },
      "source": [
        ""
      ],
      "execution_count": null,
      "outputs": []
    }
  ]
}